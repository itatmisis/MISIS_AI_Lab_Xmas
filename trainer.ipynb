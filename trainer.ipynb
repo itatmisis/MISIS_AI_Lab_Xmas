{
 "cells": [
  {
   "cell_type": "code",
   "execution_count": null,
   "id": "f4c6305c-588b-4b11-83b4-d9748a146147",
   "metadata": {
    "pycharm": {
     "name": "#%%\n"
    }
   },
   "outputs": [],
   "source": [
    "import torch\n",
    "from torch import nn\n",
    "from transformers import AutoModel, AutoTokenizer\n",
    "from pathlib import Path"
   ]
  },
  {
   "cell_type": "code",
   "execution_count": null,
   "id": "4a3accc1",
   "metadata": {
    "jupyter": {
     "outputs_hidden": false
    },
    "pycharm": {
     "name": "#%%\n"
    }
   },
   "outputs": [],
   "source": [
    "import tika\n",
    "tika.initVM()\n",
    "from tika import parser"
   ]
  },
  {
   "cell_type": "code",
   "execution_count": null,
   "id": "83fdf692",
   "metadata": {
    "jupyter": {
     "outputs_hidden": false
    },
    "pycharm": {
     "name": "#%%\n"
    }
   },
   "outputs": [],
   "source": [
    "import pandas as pd"
   ]
  },
  {
   "cell_type": "code",
   "execution_count": null,
   "id": "96ba2b4d",
   "metadata": {
    "jupyter": {
     "outputs_hidden": false
    },
    "pycharm": {
     "name": "#%%\n"
    }
   },
   "outputs": [],
   "source": [
    "from tqdm.auto import tqdm\n",
    "import json"
   ]
  },
  {
   "cell_type": "code",
   "execution_count": null,
   "id": "68c0ac31",
   "metadata": {
    "jupyter": {
     "outputs_hidden": false
    },
    "pycharm": {
     "name": "#%%\n"
    }
   },
   "outputs": [],
   "source": [
    "tqdm.pandas()"
   ]
  },
  {
   "cell_type": "code",
   "execution_count": null,
   "id": "caa31934",
   "metadata": {
    "jupyter": {
     "outputs_hidden": false
    },
    "pycharm": {
     "name": "#%%\n"
    }
   },
   "outputs": [],
   "source": [
    "with Path('hacka-aka-embedika/classes.json').open('r') as f:\n",
    "    tgt = json.load(f)"
   ]
  },
  {
   "cell_type": "code",
   "execution_count": null,
   "id": "d63aae8b",
   "metadata": {
    "jupyter": {
     "outputs_hidden": false
    },
    "pycharm": {
     "name": "#%%\n"
    }
   },
   "outputs": [],
   "source": [
    "base_tokenizer = AutoTokenizer.from_pretrained('sberbank-ai/ruRoberta-large')"
   ]
  },
  {
   "cell_type": "code",
   "execution_count": null,
   "id": "aa79981c",
   "metadata": {
    "jupyter": {
     "outputs_hidden": false
    },
    "pycharm": {
     "name": "#%%\n"
    }
   },
   "outputs": [],
   "source": [
    "from pathlib import Path\n",
    "doc_files = list(Path('hacka-aka-embedika/docs').rglob('*.*'))"
   ]
  },
  {
   "cell_type": "code",
   "execution_count": null,
   "id": "de725d00",
   "metadata": {
    "jupyter": {
     "outputs_hidden": false
    },
    "pycharm": {
     "name": "#%%\n"
    }
   },
   "outputs": [],
   "source": [
    "df = pd.DataFrame({'file': doc_files})"
   ]
  },
  {
   "cell_type": "code",
   "execution_count": null,
   "id": "647d5e19",
   "metadata": {
    "jupyter": {
     "outputs_hidden": false
    },
    "pycharm": {
     "name": "#%%\n"
    }
   },
   "outputs": [],
   "source": [
    "df['id'] = df['file'].apply(lambda x: x.name)"
   ]
  },
  {
   "cell_type": "code",
   "execution_count": null,
   "id": "66506758",
   "metadata": {
    "jupyter": {
     "outputs_hidden": false
    },
    "pycharm": {
     "name": "#%%\n"
    }
   },
   "outputs": [],
   "source": [
    "df['file'] = df['file'].apply(str)"
   ]
  },
  {
   "cell_type": "code",
   "execution_count": null,
   "id": "9cbc54c4",
   "metadata": {
    "jupyter": {
     "outputs_hidden": false
    },
    "pycharm": {
     "name": "#%%\n"
    }
   },
   "outputs": [],
   "source": [
    "df['target'] = df['id'].apply(lambda x: tgt[x])"
   ]
  },
  {
   "cell_type": "code",
   "execution_count": null,
   "id": "298b9ece",
   "metadata": {
    "jupyter": {
     "outputs_hidden": false
    },
    "pycharm": {
     "name": "#%%\n"
    }
   },
   "outputs": [],
   "source": [
    "df['file'] = df['file'].apply(str)"
   ]
  },
  {
   "cell_type": "code",
   "execution_count": null,
   "id": "dda4d9b2",
   "metadata": {
    "jupyter": {
     "outputs_hidden": false
    },
    "pycharm": {
     "name": "#%%\n"
    }
   },
   "outputs": [],
   "source": [
    "df['parsed'] = df['file'].progress_apply(lambda x: parser.from_file(x)['content'])"
   ]
  },
  {
   "cell_type": "code",
   "execution_count": null,
   "id": "5fcf1fb0",
   "metadata": {
    "jupyter": {
     "outputs_hidden": false
    },
    "pycharm": {
     "name": "#%%\n"
    }
   },
   "outputs": [],
   "source": [
    "tgt_items = list(df['target'].unique())"
   ]
  },
  {
   "cell_type": "code",
   "execution_count": null,
   "id": "6d359944-554b-4246-b3b2-18e5a20066ec",
   "metadata": {
    "pycharm": {
     "name": "#%%\n"
    }
   },
   "outputs": [],
   "source": [
    "df['target_idx'] = df['target'].apply(lambda x: tgt_items.index(x))"
   ]
  },
  {
   "cell_type": "code",
   "execution_count": null,
   "id": "3646be20",
   "metadata": {
    "jupyter": {
     "outputs_hidden": false
    },
    "pycharm": {
     "name": "#%%\n"
    }
   },
   "outputs": [],
   "source": [
    "import re\n",
    "_re_space = re.compile('\\s+')\n",
    "_re_under = re.compile('_+')\n",
    "def preprocess_str(s: str) -> str:\n",
    "    s = _re_space.sub(' ', s)\n",
    "    s = _re_under.sub('__', s)\n",
    "    return s.strip()"
   ]
  },
  {
   "cell_type": "code",
   "execution_count": null,
   "id": "e9270291",
   "metadata": {
    "jupyter": {
     "outputs_hidden": false
    },
    "pycharm": {
     "name": "#%%\n"
    }
   },
   "outputs": [],
   "source": [
    "df['parsed_preproc'] = df['parsed'].progress_apply(preprocess_str)"
   ]
  },
  {
   "cell_type": "code",
   "execution_count": null,
   "id": "3d5c94e2",
   "metadata": {
    "jupyter": {
     "outputs_hidden": false
    },
    "pycharm": {
     "name": "#%%\n"
    }
   },
   "outputs": [],
   "source": [
    "df['tokenization_results'] = df['parsed_preproc'].progress_apply(lambda x: base_tokenizer(x, add_special_tokens=False))"
   ]
  },
  {
   "cell_type": "code",
   "execution_count": null,
   "id": "cda8a695",
   "metadata": {
    "jupyter": {
     "outputs_hidden": false
    },
    "pycharm": {
     "name": "#%%\n"
    }
   },
   "outputs": [],
   "source": [
    "import plotly.express as px"
   ]
  },
  {
   "cell_type": "code",
   "execution_count": null,
   "id": "83cedfb9",
   "metadata": {
    "jupyter": {
     "outputs_hidden": false
    },
    "pycharm": {
     "name": "#%%\n"
    }
   },
   "outputs": [],
   "source": [
    "px.histogram(df['tokenization_results'].apply(lambda x: len(x['input_ids'])), nbins=100)"
   ]
  },
  {
   "cell_type": "code",
   "execution_count": null,
   "id": "21a58726-e5d4-476c-a086-2be80d8509e0",
   "metadata": {
    "pycharm": {
     "name": "#%%\n"
    }
   },
   "outputs": [],
   "source": [
    "class ModelClassify(nn.Module):\n",
    "    def __init__(self):\n",
    "        super().__init__()\n",
    "        self._bert = AutoModel.from_pretrained('sberbank-ai/ruRoberta-large')\n",
    "        self._n_cls = 5\n",
    "        self._cls = nn.Linear(1024, 5)\n",
    "\n",
    "\n",
    "    def forward(self, input_ids, attention_mask):\n",
    "        x = self._bert(input_ids=input_ids, attention_mask=attention_mask, ).pooler_output\n",
    "        x = self._cls(x)\n",
    "        return x\n",
    "\n",
    "    def restate_text_enc(self, freeze: bool):\n",
    "        for param in self._bert.parameters():\n",
    "            param.requires_grad = not freeze"
   ]
  },
  {
   "cell_type": "code",
   "execution_count": null,
   "id": "0387e6a7",
   "metadata": {
    "jupyter": {
     "outputs_hidden": false
    },
    "pycharm": {
     "name": "#%%\n"
    }
   },
   "outputs": [],
   "source": [
    "from transformers import DataCollatorWithPadding\n",
    "\n",
    "collator = DataCollatorWithPadding(base_tokenizer, return_tensors='pt')"
   ]
  },
  {
   "cell_type": "code",
   "execution_count": null,
   "id": "f1e4f7aa",
   "metadata": {
    "jupyter": {
     "outputs_hidden": false
    },
    "pycharm": {
     "name": "#%%\n"
    }
   },
   "outputs": [],
   "source": [
    "from torch.utils.data import Dataset\n",
    "import random\n",
    "import copy\n",
    "\n",
    "\n",
    "MIN_TOKENS = 300\n",
    "MAX_TOKENS = 510\n",
    "\n",
    "\n",
    "class MyDataset(Dataset):\n",
    "    def __init__(self, df: pd.DataFrame, train_mode: bool):\n",
    "        self._df = df\n",
    "        self._train_mode = train_mode\n",
    "\n",
    "    def __getitem__(self, item):\n",
    "        row = self._df.iloc[item]\n",
    "        dct = copy.deepcopy(row['tokenization_results'])\n",
    "        if self._train_mode:\n",
    "            len_can_take = len(dct['input_ids'])\n",
    "            take_n = random.randint(min(MIN_TOKENS, len_can_take), min(MAX_TOKENS, len_can_take))\n",
    "            take_at = random.randint(0, len_can_take - take_n - 1)\n",
    "            dct['input_ids'] = dct['input_ids'][1 + take_at:1 + take_at + take_n]\n",
    "            dct['attention_mask'] = dct['attention_mask'][1 + take_at:1 + take_at + take_n]\n",
    "        else:\n",
    "            dct['input_ids'] = dct['input_ids'][:510]\n",
    "            dct['attention_mask'] = dct['attention_mask'][:510]\n",
    "        dct['input_ids'] = [base_tokenizer.bos_token_id] + dct['input_ids'] + [base_tokenizer.eos_token_id]\n",
    "        dct['attention_mask'] = [1, 1] + dct['attention_mask']\n",
    "        dct['target'] = row['target_idx']\n",
    "        return dct\n",
    "\n",
    "    def __len__(self):\n",
    "        return len(self._df)"
   ]
  },
  {
   "cell_type": "code",
   "execution_count": null,
   "id": "c5ff3b1c",
   "metadata": {
    "pycharm": {
     "name": "#%%\n"
    },
    "tags": []
   },
   "outputs": [],
   "source": [
    "from sklearn.model_selection import StratifiedKFold\n",
    "import catboost as cb\n",
    "\n",
    "folder = StratifiedKFold(n_splits=5, random_state=0xDEADBEEF, shuffle=True)\n",
    "\n",
    "df_idx = df.index\n",
    "\n",
    "for i, (train_index, test_index) in enumerate(folder.split(df_idx, df['target_idx'])):\n",
    "    print('Fold', i)\n",
    "    train_df = df.loc[df_idx[train_index]]\n",
    "    val_df = df.loc[df_idx[test_index]]\n",
    "    cls = cb.CatBoostClassifier(loss_function='MultiClass', eval_metric='TotalF1:average=Macro', depth=7, n_estimators=100, random_state=0xDEADBEEF)\n",
    "    cls.fit(train_df[['parsed_preproc']], train_df['target_idx'], eval_set=(val_df[['parsed_preproc']], val_df['target_idx']), text_features=['parsed_preproc'],\n",
    "           plot=False, verbose=True)"
   ]
  },
  {
   "cell_type": "code",
   "execution_count": null,
   "id": "f3636525",
   "metadata": {
    "pycharm": {
     "name": "#%%\n"
    },
    "tags": []
   },
   "outputs": [],
   "source": [
    "from collections import defaultdict\n",
    "from xztrainer.logger.tensorboard import TensorboardLoggingEngineConfig\n",
    "from transformers import get_linear_schedule_with_warmup, AdamW\n",
    "from xztrainer.engine.standard import StandardEngineConfig\n",
    "from xztrainer import XZTrainable, TrainContext, BaseContext, BaseTrainContext, XZTrainer, XZTrainerConfig, \\\n",
    "    SchedulerType, SavePolicy\n",
    "import torch.nn.functional as F\n",
    "import numpy as np\n",
    "import sklearn.metrics as skm\n",
    "\n",
    "# mdl.restate_text_enc(freeze=True)\n",
    "\n",
    "\n",
    "class Trainer(XZTrainable):\n",
    "    def __init__(self, unfreeze_at: int):\n",
    "        super().__init__()\n",
    "        self.unfreeze_at = unfreeze_at\n",
    "        self.loss_fn = nn.CrossEntropyLoss()\n",
    "\n",
    "    def on_update(self, context: TrainContext, step):\n",
    "        unfreeze_at = self.unfreeze_at\n",
    "        if step == unfreeze_at:\n",
    "            print('Unfreezing model')\n",
    "            context.model_unwrapped.restate_text_enc(freeze=False)\n",
    "\n",
    "\n",
    "    def step(self, context: BaseContext, data):\n",
    "        model_out = context.model(data['input_ids'], data['attention_mask'])\n",
    "        preds_proba = F.softmax(model_out, dim=1)\n",
    "        preds = torch.argmax(preds_proba, dim=1)\n",
    "        loss = self.loss_fn(model_out, data['target'])\n",
    "        return loss, {\n",
    "            'target': data['target'],\n",
    "            'predict': preds,\n",
    "            'predict_proba': preds_proba\n",
    "        }\n",
    "        # if isinstance(context, BaseTrainContext):\n",
    "        #     loss = sigmoid_focal_loss(model_out[0], batch.target, batch.weight, reduction='mean', alpha=-1, gamma=1.5)\n",
    "        #     return loss, {\n",
    "        #         'target': batch.target,\n",
    "        #         'predict': preds,\n",
    "        #         'predict_proba': preds_proba\n",
    "        #     }\n",
    "        # else:\n",
    "        #     d = {\n",
    "        #         'target': batch.target,\n",
    "        #         'predict': preds,\n",
    "        #         'predict_proba': preds_proba,\n",
    "        #         'logits': model_out[1]\n",
    "        #     }\n",
    "        #     return None, d\n",
    "\n",
    "    def calculate_metrics(self, context: BaseContext, model_outputs):\n",
    "        return {\n",
    "            'loss': np.mean(model_outputs['loss']),\n",
    "            'accuracy': skm.accuracy_score(model_outputs['target'], model_outputs['predict']),\n",
    "            'f1_score': skm.f1_score(model_outputs['target'], model_outputs['predict'], average='macro')\n",
    "        }"
   ]
  },
  {
   "cell_type": "code",
   "execution_count": null,
   "id": "76ae2964-9022-4281-a73e-b5cabf228eba",
   "metadata": {
    "pycharm": {
     "name": "#%%\n"
    }
   },
   "outputs": [],
   "source": [
    "for i, (train_index, test_index) in enumerate(folder.split(df_idx, df['target_idx'])):\n",
    "    print('Fold', i)\n",
    "    trainer = XZTrainer(XZTrainerConfig(\n",
    "        engine=StandardEngineConfig(),\n",
    "        batch_size=2,\n",
    "        accumulation_batches=1,\n",
    "        batch_size_eval=4,\n",
    "        epochs=20,\n",
    "        gradient_clipping=1, # don't clip\n",
    "        collate_fn=collator,\n",
    "        scheduler=lambda optim, stps: get_linear_schedule_with_warmup(optim, stps*0.1, stps),\n",
    "        optimizer=lambda m: AdamW(m.parameters(), lr=1e-5, weight_decay=0.00001),\n",
    "        scheduler_type=SchedulerType.STEP,\n",
    "        shuffle_train_dataset=True,\n",
    "        dataloader_num_workers=0,\n",
    "        dataloader_persistent_workers=False,\n",
    "        save_policy=SavePolicy.EVERY_EPOCH,\n",
    "        print_steps=0,\n",
    "        # logger=TensorboardLoggingEngineConfig()\n",
    "    ),  ModelClassify(), Trainer(unfreeze_at=100), device=torch.device('cuda:0'))\n",
    "    train_df = df.loc[df_idx[train_index]]\n",
    "    val_df = df.loc[df_idx[test_index]]\n",
    "\n",
    "    trainer.train(MyDataset(train_df, True), MyDataset(val_df, False))"
   ]
  },
  {
   "cell_type": "code",
   "execution_count": null,
   "id": "d73b9325-385c-4ad8-b938-faae5b8aef19",
   "metadata": {
    "pycharm": {
     "name": "#%%\n"
    }
   },
   "outputs": [],
   "source": []
  }
 ],
 "metadata": {
  "kernelspec": {
   "display_name": "Python 3 (ipykernel)",
   "language": "python",
   "name": "python3"
  },
  "language_info": {
   "codemirror_mode": {
    "name": "ipython",
    "version": 3
   },
   "file_extension": ".py",
   "mimetype": "text/x-python",
   "name": "python",
   "nbconvert_exporter": "python",
   "pygments_lexer": "ipython3",
   "version": "3.9.0"
  }
 },
 "nbformat": 4,
 "nbformat_minor": 5
}